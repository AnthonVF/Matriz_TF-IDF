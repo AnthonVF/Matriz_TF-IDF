{
  "cells": [
    {
      "metadata": {
        "id": "2d2219b455c1e0ef"
      },
      "cell_type": "markdown",
      "source": [
        "# Ejercicio 02: Cálculo de la Matriz TF-IDF y Búsqueda de Consultas en un Corpus\n",
        "\n",
        "El objetivo de este ejercicio es calcular la matriz TF-IDF de un corpus de documentos y luego aplicar una serie de consultas para recuperar los documentos más relevantes. Este ejercicio te ayudará a comprender cómo funciona el modelo de espacio vectorial y cómo se utiliza TF-IDF para ponderar términos en documentos y consultas.\n",
        "\n",
        "Seguirás los siguientes pasos:"
      ],
      "id": "2d2219b455c1e0ef"
    },
    {
      "metadata": {
        "id": "8fa1290fb0f5143d"
      },
      "cell_type": "markdown",
      "source": [
        "Pasos del Ejercicio\n",
        "\n",
        "1. Preprocesamiento del texto:\n",
        "    * Lectura del corpus desde el archivo TXT.\n",
        "    * Tokenización de los documentos.\n",
        "    * Normalización del texto (conversión a minúsculas, eliminación de signos de puntuación).\n",
        "    * Eliminación de palabras vacías (stopwords).\n",
        "\n",
        "2. Construcción de la matriz TF-IDF:\n",
        "    * Cálculo de la frecuencia de término (TF) para cada término en cada documento.\n",
        "    * Cálculo de la frecuencia inversa de documento (IDF) para cada término en el corpus.\n",
        "    * Cálculo del peso TF-IDF para cada término en cada documento.\n",
        "\n",
        "3. Procesamiento de las consultas:\n",
        "    * Preprocesamiento de las consultas de manera similar a los documentos.\n",
        "    * Representación de las consultas en el espacio vectorial TF-IDF.\n",
        "\n",
        "4. Cálculo de similitudes:\n",
        "    * Cálculo de la similitud entre cada consulta y los documentos del corpus utilizando la similitud del coseno.\n",
        "\n",
        "5. Ranking de documentos:\n",
        "    * Ordenar los documentos de mayor a menor similitud para cada consulta.\n",
        "    * Mostrar los documentos más relevantes para cada consulta."
      ],
      "id": "8fa1290fb0f5143d"
    },
    {
      "metadata": {
        "id": "431356e916e78a3f"
      },
      "cell_type": "markdown",
      "source": [
        "Consultas\n",
        "\n",
        "Las consultas a aplicar son las siguientes:\n",
        "\n",
        "    \"inteligencia artificial en medicina\"\n",
        "    \"beneficios de la educación a distancia\"\n",
        "    \"realidad aumentada en videojuegos\"\n",
        "    \"desarrollo personal y hábitos saludables\"\n",
        "    \"futuro del comercio electrónico\"\n",
        "    \"tecnologías en cine moderno\"\n",
        "    \"competencias de e-sports\"\n",
        "    \"diagnóstico con dispositivos portátiles\"\n",
        "    \"literatura de ciencia ficción\"\n",
        "    \"plataformas de streaming\""
      ],
      "id": "431356e916e78a3f"
    },
    {
      "cell_type": "markdown",
      "source": [
        "# 1.- Procesamiento del Texto"
      ],
      "metadata": {
        "id": "SWqr5GI9dhNQ"
      },
      "id": "SWqr5GI9dhNQ"
    },
    {
      "cell_type": "markdown",
      "source": [
        "### Lectura del Corpus y Tokenización de Documentos"
      ],
      "metadata": {
        "id": "X0tKgUZvdmYv"
      },
      "id": "X0tKgUZvdmYv"
    },
    {
      "cell_type": "code",
      "execution_count": 1,
      "id": "initial_id",
      "metadata": {
        "collapsed": true,
        "id": "initial_id"
      },
      "outputs": [],
      "source": [
        "# Leer el archivo TXT\n",
        "with open(\"02tfidfmatrix_corpus.txt\", \"r\", encoding=\"utf-8\") as file:\n",
        "    documentos = file.readlines()"
      ]
    },
    {
      "cell_type": "code",
      "source": [
        "# Tokenización y preprocesamiento\n",
        "vocab = []\n",
        "for doc in documentos:\n",
        "    # Convertir a minúsculas y eliminar comas y puntos\n",
        "    text = doc.lower().replace(',', '').replace('.', '')\n",
        "    # Tokenizar por espacios\n",
        "    vocab.extend(text.split())"
      ],
      "metadata": {
        "id": "FUrioqOIfS-e"
      },
      "id": "FUrioqOIfS-e",
      "execution_count": 2,
      "outputs": []
    },
    {
      "cell_type": "markdown",
      "source": [
        "### Eliminación de StopWords"
      ],
      "metadata": {
        "id": "3UJzFvc4fqrV"
      },
      "id": "3UJzFvc4fqrV"
    },
    {
      "cell_type": "code",
      "source": [
        "import nltk\n",
        "from nltk.corpus import stopwords\n",
        "\n",
        "# Descargar stopwords\n",
        "nltk.download('stopwords')\n",
        "stop_words = set(stopwords.words('spanish'))"
      ],
      "metadata": {
        "colab": {
          "base_uri": "https://localhost:8080/"
        },
        "id": "799RT9sCftMe",
        "outputId": "e9e96bf4-d847-4dc8-d366-28540b0dc24c"
      },
      "id": "799RT9sCftMe",
      "execution_count": 3,
      "outputs": [
        {
          "output_type": "stream",
          "name": "stderr",
          "text": [
            "[nltk_data] Downloading package stopwords to /root/nltk_data...\n",
            "[nltk_data]   Package stopwords is already up-to-date!\n"
          ]
        }
      ]
    },
    {
      "cell_type": "code",
      "source": [
        "# Eliminar stopwords de vocab\n",
        "vocab_filtrado = [word for word in vocab if word not in stop_words]"
      ],
      "metadata": {
        "id": "rByek92Pfy5-"
      },
      "id": "rByek92Pfy5-",
      "execution_count": 4,
      "outputs": []
    },
    {
      "cell_type": "code",
      "source": [
        "# Convertir a conjunto para vocabulario único después de filtrar stopwords\n",
        "vocab_filtrado = set(vocab_filtrado)\n",
        "print(len(vocab_filtrado))  # Tamaño del vocabulario después de eliminar stopwords\n",
        "print(vocab_filtrado)       # Vocabulario sin stopwords"
      ],
      "metadata": {
        "colab": {
          "base_uri": "https://localhost:8080/"
        },
        "id": "7CEttIVTgOuW",
        "outputId": "bf45a781-e4e1-4b5d-f030-15ee927563d4"
      },
      "id": "7CEttIVTgOuW",
      "execution_count": 5,
      "outputs": [
        {
          "output_type": "stream",
          "name": "stdout",
          "text": [
            "205\n",
            "{'individual', 'ahora', 'monitorean', 'educativa', 'virtuales', 'competencias', 'producciones', 'programas', 'garantizar', 'trabajos', 'interacción', 'plataformas', 'transformando', 'flexibilidad', 'contenido', 'continúa', 'decisiones', '6:', 'reto', 'libros', 'experiencias', 'embargo', 'fundamental', 'videojuegos', '1:', 'personalizados', 'enfoque', 'crear', 'electrónico', 'desafían', 'realistas', 'aumento', 'acceder', 'ubicación', 'compras', 'utilizan', 'profesionales', 'finanzas', 'ética', 'inmersivos', 'crecimiento', 'efectos', 'aquellos', 'integral', 'transacciones', 'ofrecer', 'perpetúen', 'usuario', 'hábitos', 'eficaces', 'herramientas', 'siguen', 'compramos', 'cuidados', 'ficción', 'temas', 'contexto', 'siendo', 'interactuar', 'forma', 'beneficios', 'bienestar', 'justas', 'educación', 'importar', 'público', 'aprendizaje', 'impulsa', 'adoptando', 'evolucionado', 'rápidamente', 'visuales', 'tratan', '8:', 'inteligencia', 'completo', 'diagnostican', '2:', 'avanzadas', 'personas', 'muchas', 'viaje', 'explorando', 'incorporando', 'género', 'accesibles', 'médicos', 'medicina', 'cambiando', 'cuándo', 'salud', 'e-sports', 'implicaciones', 'avances', 'mejores', 'cada', 'literarios', 'optimizando', 'facilitando', 'llevado', 'streaming', 'cine', 'personalizadas', 'promueven', 'permitido', '3:', 'distancia', 'mejorando', 'pagos', 'creciente', 'planetas', 'demanda', 'estudiantes', 'géneros', '4:', 'aunque', 'mundo', 'vida', 'portátiles', 'documento', 'tratamientos', 'mejorar', 'prometedor', 'reflexionar', 'permitiendo', 'línea', 'entretiene', 'pueden', 'prioridad', 'tiempo', 'realidad', 'datos', 'consume', 'millones', 'adopción', 'rápidos', 'jugadores', 'falta', 'aplicaciones', 'avanzando', 'sectores', 'tecnología', 'mayores', 'espectadores', 'cinematográficas', 'escenas', 'nuevo', 'presencial', 'humanidad', 'tecnologías', 'recomendaciones', 'digitales', 'aumentada', 'acceso', 'diarias', 'mercado', 'calidad', 'principal', 'algoritmos', 'comercio', 'cómo', 'buscan', 'experiencia', 'atraen', 'enfermedades', 'cursos', '5:', 'vez', 'convertido', 'consumidores', 'basadas', 'ciencia', 'habilidades', 'desarrollo', 'series', 'real', 'tecnológicos', 'telemedicina', 'películas', 'solo', 'desafío', '7:', 'nuevas', 'además', 'especialmente', 'transformado', 'sino', 'empresas', 'alcanzado', 'invita', 'artificial', 'personal', 'populares', 'cambiado', 'dispositivos', 'mundos', 'saludables', 'automático', 'sesgos', 'democratizando', 'sigue', 'eficiencia', 'años', 'nivel', 'futuro'}\n"
          ]
        }
      ]
    },
    {
      "cell_type": "code",
      "source": [
        "import re\n",
        "# Eliminar stopwords y limpiar tokens no deseados\n",
        "vocab_filtrado = [\n",
        "    re.sub(r'\\W+', '', word)  # Eliminar caracteres no alfanuméricos\n",
        "    for word in vocab\n",
        "    if word not in stop_words and not re.match(r'^\\d+:$', word)  # Filtrar números de índice como '1:', '2:', etc.\n",
        "]"
      ],
      "metadata": {
        "id": "BaPfGjjWiFT2"
      },
      "id": "BaPfGjjWiFT2",
      "execution_count": 6,
      "outputs": []
    },
    {
      "cell_type": "code",
      "source": [
        "# Eliminar elementos vacíos que resulten de la limpieza\n",
        "vocab_filtrado = [word for word in vocab_filtrado if word]"
      ],
      "metadata": {
        "id": "FIYIJPv2iQcV"
      },
      "id": "FIYIJPv2iQcV",
      "execution_count": 7,
      "outputs": []
    },
    {
      "cell_type": "code",
      "source": [
        "# Convertir a conjunto para obtener vocabulario único después de filtrar stopwords\n",
        "vocab_filtrado = set(vocab_filtrado)\n",
        "print(len(vocab_filtrado))  # Tamaño del vocabulario después de eliminar stopwords y números de índice\n",
        "print(vocab_filtrado)       # Vocabulario final, sin stopwords ni índices numéricos"
      ],
      "metadata": {
        "colab": {
          "base_uri": "https://localhost:8080/"
        },
        "id": "CtT-soXgiRht",
        "outputId": "17c6be44-174e-4eda-9df8-67c11c6aac6c"
      },
      "id": "CtT-soXgiRht",
      "execution_count": 8,
      "outputs": [
        {
          "output_type": "stream",
          "name": "stdout",
          "text": [
            "197\n",
            "{'individual', 'ahora', 'monitorean', 'educativa', 'virtuales', 'competencias', 'producciones', 'programas', 'garantizar', 'trabajos', 'interacción', 'plataformas', 'transformando', 'flexibilidad', 'contenido', 'continúa', 'decisiones', 'reto', 'libros', 'experiencias', 'embargo', 'fundamental', 'videojuegos', 'personalizados', 'enfoque', 'crear', 'electrónico', 'desafían', 'realistas', 'aumento', 'acceder', 'ubicación', 'compras', 'utilizan', 'profesionales', 'finanzas', 'ética', 'inmersivos', 'crecimiento', 'efectos', 'aquellos', 'integral', 'transacciones', 'ofrecer', 'perpetúen', 'usuario', 'hábitos', 'eficaces', 'herramientas', 'siguen', 'compramos', 'cuidados', 'ficción', 'temas', 'contexto', 'siendo', 'interactuar', 'forma', 'beneficios', 'bienestar', 'justas', 'educación', 'importar', 'público', 'aprendizaje', 'impulsa', 'adoptando', 'evolucionado', 'rápidamente', 'visuales', 'tratan', 'inteligencia', 'completo', 'diagnostican', 'avanzadas', 'personas', 'muchas', 'viaje', 'explorando', 'incorporando', 'género', 'accesibles', 'médicos', 'medicina', 'cambiando', 'cuándo', 'salud', 'implicaciones', 'avances', 'mejores', 'cada', 'literarios', 'optimizando', 'facilitando', 'llevado', 'streaming', 'cine', 'personalizadas', 'promueven', 'permitido', 'esports', 'distancia', 'mejorando', 'pagos', 'creciente', 'planetas', 'demanda', 'estudiantes', 'géneros', 'aunque', 'mundo', 'vida', 'portátiles', 'documento', 'tratamientos', 'mejorar', 'prometedor', 'reflexionar', 'permitiendo', 'línea', 'entretiene', 'pueden', 'prioridad', 'tiempo', 'realidad', 'datos', 'consume', 'millones', 'adopción', 'rápidos', 'jugadores', 'falta', 'aplicaciones', 'avanzando', 'sectores', 'tecnología', 'mayores', 'espectadores', 'cinematográficas', 'escenas', 'nuevo', 'presencial', 'humanidad', 'tecnologías', 'recomendaciones', 'digitales', 'aumentada', 'acceso', 'diarias', 'mercado', 'calidad', 'principal', 'algoritmos', 'comercio', 'cómo', 'buscan', 'experiencia', 'atraen', 'enfermedades', 'cursos', 'vez', 'convertido', 'consumidores', 'basadas', 'ciencia', 'habilidades', 'desarrollo', 'series', 'real', 'tecnológicos', 'telemedicina', 'películas', 'solo', 'desafío', 'nuevas', 'además', 'especialmente', 'transformado', 'sino', 'empresas', 'alcanzado', 'invita', 'artificial', 'personal', 'populares', 'cambiado', 'dispositivos', 'mundos', 'saludables', 'automático', 'sesgos', 'democratizando', 'sigue', 'eficiencia', 'años', 'nivel', 'futuro'}\n"
          ]
        }
      ]
    },
    {
      "cell_type": "markdown",
      "source": [
        "#2.- Construcción de la Matriz TF-IDF"
      ],
      "metadata": {
        "id": "y9uUZaYBiYfe"
      },
      "id": "y9uUZaYBiYfe"
    },
    {
      "cell_type": "markdown",
      "source": [
        "###Cálculo de la frecuencia de término (TF) para cada término en cada documento."
      ],
      "metadata": {
        "id": "CmYYqmaDih2N"
      },
      "id": "CmYYqmaDih2N"
    },
    {
      "cell_type": "code",
      "source": [
        "from collections import Counter\n",
        "import pandas as pd\n",
        "\n",
        "# Crear lista para almacenar TF de cada documento\n",
        "tf_matriz = []\n",
        "\n",
        "# Iterar sobre los documentos originales y calcular TF en base a `vocab_filtrado`\n",
        "for doc in documentos:\n",
        "    tokens = [re.sub(r'\\W+', '', word) for word in doc.lower().split() if word in vocab_filtrado]\n",
        "    term_count = Counter(tokens)\n",
        "    total_terms = len(tokens)\n",
        "    tf = {term: term_count.get(term, 0) / total_terms for term in vocab_filtrado}\n",
        "    tf_matriz.append(tf)"
      ],
      "metadata": {
        "id": "DEklLUERijZt"
      },
      "id": "DEklLUERijZt",
      "execution_count": 9,
      "outputs": []
    },
    {
      "cell_type": "code",
      "source": [
        "# Convertir en DataFrame\n",
        "tf_df = pd.DataFrame(tf_matriz).fillna(0)\n",
        "print(tf_df.shape)  # Confirmar dimensiones esperadas: 8 filas y 197 columnas\n",
        "print(tf_df)"
      ],
      "metadata": {
        "colab": {
          "base_uri": "https://localhost:8080/"
        },
        "id": "IKGOxUuvkFm8",
        "outputId": "154ec6ac-1bd0-41dd-d57d-54d82a8e9b8e"
      },
      "id": "IKGOxUuvkFm8",
      "execution_count": 10,
      "outputs": [
        {
          "output_type": "stream",
          "name": "stdout",
          "text": [
            "(8, 197)\n",
            "   individual     ahora  monitorean  educativa  virtuales  competencias  \\\n",
            "0        0.00  0.000000    0.000000        0.0   0.000000      0.000000   \n",
            "1        0.00  0.041667    0.000000        0.0   0.041667      0.041667   \n",
            "2        0.00  0.000000    0.000000        0.0   0.000000      0.000000   \n",
            "3        0.00  0.000000    0.000000        0.0   0.000000      0.000000   \n",
            "4        0.00  0.000000    0.000000        0.0   0.000000      0.000000   \n",
            "5        0.00  0.000000    0.000000        0.0   0.000000      0.000000   \n",
            "6        0.04  0.000000    0.000000        0.0   0.000000      0.000000   \n",
            "7        0.00  0.000000    0.045455        0.0   0.000000      0.000000   \n",
            "\n",
            "   producciones  programas  garantizar  trabajos  ...    mundos  saludables  \\\n",
            "0      0.000000       0.00    0.038462      0.00  ...  0.000000        0.00   \n",
            "1      0.000000       0.00    0.000000      0.00  ...  0.041667        0.00   \n",
            "2      0.000000       0.00    0.000000      0.00  ...  0.000000        0.00   \n",
            "3      0.000000       0.04    0.000000      0.04  ...  0.000000        0.00   \n",
            "4      0.037037       0.00    0.000000      0.00  ...  0.000000        0.00   \n",
            "5      0.000000       0.00    0.000000      0.00  ...  0.000000        0.00   \n",
            "6      0.000000       0.00    0.000000      0.00  ...  0.000000        0.04   \n",
            "7      0.000000       0.00    0.000000      0.00  ...  0.000000        0.00   \n",
            "\n",
            "   automático  sesgos  democratizando     sigue  eficiencia  años     nivel  \\\n",
            "0    0.038462     0.0        0.000000  0.038462         0.0   0.0  0.000000   \n",
            "1    0.000000     0.0        0.000000  0.000000         0.0   0.0  0.041667   \n",
            "2    0.000000     0.0        0.000000  0.000000         0.0   0.0  0.000000   \n",
            "3    0.000000     0.0        0.000000  0.000000         0.0   0.0  0.000000   \n",
            "4    0.000000     0.0        0.037037  0.000000         0.0   0.0  0.000000   \n",
            "5    0.000000     0.0        0.000000  0.000000         0.0   0.0  0.000000   \n",
            "6    0.000000     0.0        0.000000  0.000000         0.0   0.0  0.000000   \n",
            "7    0.000000     0.0        0.000000  0.000000         0.0   0.0  0.000000   \n",
            "\n",
            "     futuro  \n",
            "0  0.000000  \n",
            "1  0.000000  \n",
            "2  0.000000  \n",
            "3  0.000000  \n",
            "4  0.000000  \n",
            "5  0.050000  \n",
            "6  0.000000  \n",
            "7  0.045455  \n",
            "\n",
            "[8 rows x 197 columns]\n"
          ]
        }
      ]
    },
    {
      "cell_type": "markdown",
      "source": [
        "###Cálculo del vector IDF"
      ],
      "metadata": {
        "id": "NCsotDLHpaur"
      },
      "id": "NCsotDLHpaur"
    },
    {
      "cell_type": "code",
      "source": [
        "import math\n",
        "\n",
        "# Total de documentos en el corpus\n",
        "N = len(documentos)"
      ],
      "metadata": {
        "id": "SJaWIlOlkJbc"
      },
      "id": "SJaWIlOlkJbc",
      "execution_count": 11,
      "outputs": []
    },
    {
      "cell_type": "code",
      "source": [
        "# Contar en cuántos documentos aparece cada término\n",
        "df = {term: 0 for term in vocab_filtrado}\n",
        "for doc in documentos:\n",
        "    tokens = [re.sub(r'\\W+', '', word) for word in doc.lower().split() if word in vocab_filtrado]\n",
        "    unique_terms = set(tokens)  # Evitar contar el mismo término varias veces en el mismo documento\n",
        "    for term in unique_terms:\n",
        "        df[term] += 1"
      ],
      "metadata": {
        "id": "K4OTDY9PkvBr"
      },
      "id": "K4OTDY9PkvBr",
      "execution_count": 12,
      "outputs": []
    },
    {
      "cell_type": "code",
      "source": [
        "# Calcular IDF para cada término\n",
        "idf = {term: math.log(N / (df_term if df_term > 0 else 1)) for term, df_term in df.items()}"
      ],
      "metadata": {
        "id": "zBDh_1AIkxL1"
      },
      "id": "zBDh_1AIkxL1",
      "execution_count": 13,
      "outputs": []
    },
    {
      "cell_type": "code",
      "source": [
        "# Mostrar los resultados\n",
        "print(\"IDF para algunos términos:\", {term: idf[term] for term in list(idf)[:10]})  # Muestra los primeros 10 términos"
      ],
      "metadata": {
        "colab": {
          "base_uri": "https://localhost:8080/"
        },
        "id": "XF_w00KWk1dU",
        "outputId": "88bee64e-6529-4054-9442-d136bfca3234"
      },
      "id": "XF_w00KWk1dU",
      "execution_count": 14,
      "outputs": [
        {
          "output_type": "stream",
          "name": "stdout",
          "text": [
            "IDF para algunos términos: {'individual': 2.0794415416798357, 'ahora': 2.0794415416798357, 'monitorean': 2.0794415416798357, 'educativa': 2.0794415416798357, 'virtuales': 2.0794415416798357, 'competencias': 2.0794415416798357, 'producciones': 2.0794415416798357, 'programas': 2.0794415416798357, 'garantizar': 2.0794415416798357, 'trabajos': 2.0794415416798357}\n"
          ]
        }
      ]
    },
    {
      "cell_type": "markdown",
      "source": [
        "### Cálculo del peso TF-IDF"
      ],
      "metadata": {
        "id": "kP6uc3UflHOk"
      },
      "id": "kP6uc3UflHOk"
    },
    {
      "cell_type": "code",
      "source": [
        "# Crear la matriz TF-IDF\n",
        "tfidf_matriz = []\n",
        "\n",
        "# Calcular TF-IDF para cada término en cada documento\n",
        "for doc_idx, doc in enumerate(documentos):\n",
        "    tokens = [re.sub(r'\\W+', '', word) for word in doc.lower().split() if word in vocab_filtrado]\n",
        "    term_count = Counter(tokens)\n",
        "    total_terms = len(tokens)\n",
        "\n",
        "    # Calcular el TF para cada término en el documento\n",
        "    tf = {term: term_count.get(term, 0) / total_terms for term in vocab_filtrado}\n",
        "\n",
        "    # Calcular el TF-IDF multiplicando TF por IDF\n",
        "    tfidf = {term: tf.get(term, 0) * idf.get(term, 0) for term in vocab_filtrado}\n",
        "\n",
        "    # Añadir la fila de TF-IDF para el documento\n",
        "    tfidf_matriz.append(tfidf)"
      ],
      "metadata": {
        "id": "YLkeCcZplGSU"
      },
      "id": "YLkeCcZplGSU",
      "execution_count": 15,
      "outputs": []
    },
    {
      "cell_type": "code",
      "source": [
        "# Convertir la matriz TF-IDF en un DataFrame\n",
        "tfidf_df = pd.DataFrame(tfidf_matriz).fillna(0)\n",
        "\n",
        "# Mostrar el tamaño de la matriz y una muestra de los datos\n",
        "print(\"Tamaño de la matriz TF-IDF:\", tfidf_df.shape)\n",
        "print(tfidf_df.head())  # Muestra de los primeros resultados"
      ],
      "metadata": {
        "colab": {
          "base_uri": "https://localhost:8080/"
        },
        "id": "mxSXKSfulNlk",
        "outputId": "ca81cb41-2359-4c64-b570-39c30eab7e1f"
      },
      "id": "mxSXKSfulNlk",
      "execution_count": 16,
      "outputs": [
        {
          "output_type": "stream",
          "name": "stdout",
          "text": [
            "Tamaño de la matriz TF-IDF: (8, 197)\n",
            "   individual     ahora  monitorean  educativa  virtuales  competencias  \\\n",
            "0         0.0  0.000000         0.0        0.0   0.000000      0.000000   \n",
            "1         0.0  0.086643         0.0        0.0   0.086643      0.086643   \n",
            "2         0.0  0.000000         0.0        0.0   0.000000      0.000000   \n",
            "3         0.0  0.000000         0.0        0.0   0.000000      0.000000   \n",
            "4         0.0  0.000000         0.0        0.0   0.000000      0.000000   \n",
            "\n",
            "   producciones  programas  garantizar  trabajos  ...    mundos  saludables  \\\n",
            "0      0.000000   0.000000    0.079979  0.000000  ...  0.000000         0.0   \n",
            "1      0.000000   0.000000    0.000000  0.000000  ...  0.086643         0.0   \n",
            "2      0.000000   0.000000    0.000000  0.000000  ...  0.000000         0.0   \n",
            "3      0.000000   0.083178    0.000000  0.083178  ...  0.000000         0.0   \n",
            "4      0.077016   0.000000    0.000000  0.000000  ...  0.000000         0.0   \n",
            "\n",
            "   automático  sesgos  democratizando     sigue  eficiencia  años     nivel  \\\n",
            "0    0.079979     0.0        0.000000  0.079979         0.0   0.0  0.000000   \n",
            "1    0.000000     0.0        0.000000  0.000000         0.0   0.0  0.086643   \n",
            "2    0.000000     0.0        0.000000  0.000000         0.0   0.0  0.000000   \n",
            "3    0.000000     0.0        0.000000  0.000000         0.0   0.0  0.000000   \n",
            "4    0.000000     0.0        0.077016  0.000000         0.0   0.0  0.000000   \n",
            "\n",
            "   futuro  \n",
            "0     0.0  \n",
            "1     0.0  \n",
            "2     0.0  \n",
            "3     0.0  \n",
            "4     0.0  \n",
            "\n",
            "[5 rows x 197 columns]\n"
          ]
        }
      ]
    },
    {
      "cell_type": "markdown",
      "source": [
        "#3.- Procesamiento de las Consultas\n"
      ],
      "metadata": {
        "id": "Y7YTI5h2lTuE"
      },
      "id": "Y7YTI5h2lTuE"
    },
    {
      "cell_type": "markdown",
      "source": [
        "###Preprocesamiento de las consultas"
      ],
      "metadata": {
        "id": "XF7y3q11lWDt"
      },
      "id": "XF7y3q11lWDt"
    },
    {
      "cell_type": "code",
      "source": [
        "# Definir las consultas\n",
        "consultas = [\n",
        "    \"inteligencia artificial en medicina\",\n",
        "    \"beneficios de la educación a distancia\",\n",
        "    \"realidad aumentada en videojuegos\",\n",
        "    \"desarrollo personal y hábitos saludables\",\n",
        "    \"futuro del comercio electrónico\",\n",
        "    \"tecnologías en cine moderno\",\n",
        "    \"competencias de e-sports\",\n",
        "    \"diagnóstico con dispositivos portátiles\",\n",
        "    \"literatura de ciencia ficción\",\n",
        "    \"plataformas de streaming\"\n",
        "]"
      ],
      "metadata": {
        "id": "l_WQOmt7lVnM"
      },
      "id": "l_WQOmt7lVnM",
      "execution_count": 17,
      "outputs": []
    },
    {
      "cell_type": "code",
      "source": [
        "# Preprocesamiento de las consultas (convertir a minúsculas, eliminar puntuación y stopwords)\n",
        "consultas_preprocesadas = []\n",
        "\n",
        "for consulta in consultas:\n",
        "    # Convertir a minúsculas y eliminar signos de puntuación\n",
        "    texto = consulta.lower().replace(',', '').replace('.', '')\n",
        "    # Tokenizar y eliminar stopwords\n",
        "    tokens = [word for word in texto.split() if word not in stop_words and re.sub(r'\\W+', '', word) != '']\n",
        "    consultas_preprocesadas.append(tokens)"
      ],
      "metadata": {
        "id": "G9o2JwVOltWL"
      },
      "id": "G9o2JwVOltWL",
      "execution_count": 18,
      "outputs": []
    },
    {
      "cell_type": "code",
      "source": [
        "# Mostrar las consultas preprocesadas\n",
        "print(\"Consultas preprocesadas:\", consultas_preprocesadas)"
      ],
      "metadata": {
        "colab": {
          "base_uri": "https://localhost:8080/"
        },
        "id": "nmj3vRI6lw9L",
        "outputId": "8df0b8b8-67bd-47ec-a69d-602249f21bdd"
      },
      "id": "nmj3vRI6lw9L",
      "execution_count": 19,
      "outputs": [
        {
          "output_type": "stream",
          "name": "stdout",
          "text": [
            "Consultas preprocesadas: [['inteligencia', 'artificial', 'medicina'], ['beneficios', 'educación', 'distancia'], ['realidad', 'aumentada', 'videojuegos'], ['desarrollo', 'personal', 'hábitos', 'saludables'], ['futuro', 'comercio', 'electrónico'], ['tecnologías', 'cine', 'moderno'], ['competencias', 'e-sports'], ['diagnóstico', 'dispositivos', 'portátiles'], ['literatura', 'ciencia', 'ficción'], ['plataformas', 'streaming']]\n"
          ]
        }
      ]
    },
    {
      "cell_type": "markdown",
      "source": [
        "###Representación de las consultas en el espacio TF-IDF"
      ],
      "metadata": {
        "id": "EjRYCOfbm-vk"
      },
      "id": "EjRYCOfbm-vk"
    },
    {
      "cell_type": "code",
      "source": [
        "# Crear una lista para almacenar los vectores TF-IDF de las consultas\n",
        "consultas_tfidf = []\n",
        "\n",
        "# Calcular el vector TF-IDF para cada consulta\n",
        "for consulta in consultas_preprocesadas:\n",
        "    # Contar la frecuencia de los términos en la consulta\n",
        "    term_count = Counter(consulta)\n",
        "    total_terms = len(consulta)\n",
        "\n",
        "    # Calcular el TF para cada término en la consulta\n",
        "    tf = {term: term_count.get(term, 0) / total_terms for term in vocab_filtrado}\n",
        "\n",
        "    # Calcular el TF-IDF multiplicando el TF por el IDF\n",
        "    tfidf = {term: tf.get(term, 0) * idf.get(term, 0) for term in vocab_filtrado}\n",
        "\n",
        "    # Añadir el vector TF-IDF para la consulta\n",
        "    consultas_tfidf.append(tfidf)"
      ],
      "metadata": {
        "id": "WsnEm8jlnCAE"
      },
      "id": "WsnEm8jlnCAE",
      "execution_count": 20,
      "outputs": []
    },
    {
      "cell_type": "code",
      "source": [
        "# Convertir los vectores TF-IDF de las consultas en un DataFrame\n",
        "consultas_tfidf_df = pd.DataFrame(consultas_tfidf).fillna(0)\n",
        "\n",
        "# Mostrar el tamaño del DataFrame y los primeros valores\n",
        "print(\"Tamaño de la matriz de consultas TF-IDF:\", consultas_tfidf_df.shape)  # 10 consultas x 197 términos\n",
        "print(consultas_tfidf_df.head())  # Muestra de los primeros resultados"
      ],
      "metadata": {
        "colab": {
          "base_uri": "https://localhost:8080/"
        },
        "id": "nrrF-ifDnHNz",
        "outputId": "4d1ca58b-59a8-4e0d-ab6c-7d2cc676682e"
      },
      "id": "nrrF-ifDnHNz",
      "execution_count": 21,
      "outputs": [
        {
          "output_type": "stream",
          "name": "stdout",
          "text": [
            "Tamaño de la matriz de consultas TF-IDF: (10, 197)\n",
            "   individual  ahora  monitorean  educativa  virtuales  competencias  \\\n",
            "0         0.0    0.0         0.0        0.0        0.0           0.0   \n",
            "1         0.0    0.0         0.0        0.0        0.0           0.0   \n",
            "2         0.0    0.0         0.0        0.0        0.0           0.0   \n",
            "3         0.0    0.0         0.0        0.0        0.0           0.0   \n",
            "4         0.0    0.0         0.0        0.0        0.0           0.0   \n",
            "\n",
            "   producciones  programas  garantizar  trabajos  ...  mundos  saludables  \\\n",
            "0           0.0        0.0         0.0       0.0  ...     0.0     0.00000   \n",
            "1           0.0        0.0         0.0       0.0  ...     0.0     0.00000   \n",
            "2           0.0        0.0         0.0       0.0  ...     0.0     0.00000   \n",
            "3           0.0        0.0         0.0       0.0  ...     0.0     0.51986   \n",
            "4           0.0        0.0         0.0       0.0  ...     0.0     0.00000   \n",
            "\n",
            "   automático  sesgos  democratizando  sigue  eficiencia  años  nivel  \\\n",
            "0         0.0     0.0             0.0    0.0         0.0   0.0    0.0   \n",
            "1         0.0     0.0             0.0    0.0         0.0   0.0    0.0   \n",
            "2         0.0     0.0             0.0    0.0         0.0   0.0    0.0   \n",
            "3         0.0     0.0             0.0    0.0         0.0   0.0    0.0   \n",
            "4         0.0     0.0             0.0    0.0         0.0   0.0    0.0   \n",
            "\n",
            "     futuro  \n",
            "0  0.000000  \n",
            "1  0.000000  \n",
            "2  0.000000  \n",
            "3  0.000000  \n",
            "4  0.462098  \n",
            "\n",
            "[5 rows x 197 columns]\n"
          ]
        }
      ]
    },
    {
      "cell_type": "markdown",
      "source": [
        "#4.- Cálculo de Similitudes"
      ],
      "metadata": {
        "id": "XKFBbU0inNJz"
      },
      "id": "XKFBbU0inNJz"
    },
    {
      "cell_type": "markdown",
      "source": [
        "###Cálculo de la similitud entre cada consulta y los documentos del corpus utilizando la similitud del coseno."
      ],
      "metadata": {
        "id": "yZtnaZusnSFD"
      },
      "id": "yZtnaZusnSFD"
    },
    {
      "cell_type": "code",
      "source": [
        "from sklearn.metrics.pairwise import cosine_similarity\n",
        "import numpy as np\n",
        "\n",
        "# Calcular la similitud del coseno entre las consultas y los documentos\n",
        "similitud_coseno = cosine_similarity(consultas_tfidf_df, tfidf_df)"
      ],
      "metadata": {
        "id": "6Nnai0nenMI7"
      },
      "id": "6Nnai0nenMI7",
      "execution_count": 22,
      "outputs": []
    },
    {
      "cell_type": "code",
      "source": [
        "# Mostrar la matriz de similitudes (10 consultas x 8 documentos)\n",
        "print(\"Matriz de similitudes (10 consultas x 8 documentos):\")\n",
        "print(similitud_coseno)"
      ],
      "metadata": {
        "colab": {
          "base_uri": "https://localhost:8080/"
        },
        "id": "E-KS0liun1m7",
        "outputId": "81088c64-ca5c-4644-8a5a-84c387a468f8"
      },
      "id": "E-KS0liun1m7",
      "execution_count": 23,
      "outputs": [
        {
          "output_type": "stream",
          "name": "stdout",
          "text": [
            "Matriz de similitudes (10 consultas x 8 documentos):\n",
            "[[0.11154736 0.03853164 0.         0.         0.         0.127813\n",
            "  0.         0.35642298]\n",
            " [0.         0.         0.         0.2506536  0.         0.\n",
            "  0.         0.        ]\n",
            " [0.         0.38729583 0.         0.         0.         0.\n",
            "  0.         0.        ]\n",
            " [0.         0.05354761 0.         0.         0.         0.\n",
            "  0.40824829 0.        ]\n",
            " [0.         0.         0.30338773 0.         0.         0.07033688\n",
            "  0.         0.06540655]\n",
            " [0.         0.08268929 0.         0.         0.23177361 0.\n",
            "  0.         0.        ]\n",
            " [0.         0.22360535 0.         0.         0.         0.\n",
            "  0.         0.        ]\n",
            " [0.         0.         0.         0.         0.         0.\n",
            "  0.         0.32539346]\n",
            " [0.         0.         0.         0.         0.         0.34992156\n",
            "  0.         0.        ]\n",
            " [0.         0.         0.08770516 0.         0.23177361 0.\n",
            "  0.         0.        ]]\n"
          ]
        }
      ]
    },
    {
      "cell_type": "markdown",
      "source": [
        "#5.- Ranking de Documentos"
      ],
      "metadata": {
        "id": "wLo3C5CGn7k7"
      },
      "id": "wLo3C5CGn7k7"
    },
    {
      "cell_type": "markdown",
      "source": [
        "###Ordenar los documentos de mayor a menor similitud para cada consulta."
      ],
      "metadata": {
        "id": "8heSgLufn9Zi"
      },
      "id": "8heSgLufn9Zi"
    },
    {
      "cell_type": "code",
      "source": [
        "# Ordenar las similitudes y mostrar los documentos más relevantes para cada consulta\n",
        "for i, sim in enumerate(similitud_coseno):\n",
        "    print(f\"\\nConsulta {i + 1}: '{consultas[i]}'\")\n",
        "    documentos_relevantes = np.argsort(sim)[::-1]  # Ordenar los documentos por similitud (de mayor a menor)\n",
        "    print(\"Documentos más relevantes:\")\n",
        "    for doc_idx in documentos_relevantes[:3]:  # Mostrar los 3 documentos más relevantes\n",
        "        print(f\"  Documento {doc_idx + 1}: Similitud = {sim[doc_idx]:.4f}\")"
      ],
      "metadata": {
        "colab": {
          "base_uri": "https://localhost:8080/"
        },
        "id": "avhiOOIpn_ki",
        "outputId": "ec56e99d-24c0-412d-fa85-85c7691acd08"
      },
      "id": "avhiOOIpn_ki",
      "execution_count": 24,
      "outputs": [
        {
          "output_type": "stream",
          "name": "stdout",
          "text": [
            "\n",
            "Consulta 1: 'inteligencia artificial en medicina'\n",
            "Documentos más relevantes:\n",
            "  Documento 8: Similitud = 0.3564\n",
            "  Documento 6: Similitud = 0.1278\n",
            "  Documento 1: Similitud = 0.1115\n",
            "\n",
            "Consulta 2: 'beneficios de la educación a distancia'\n",
            "Documentos más relevantes:\n",
            "  Documento 4: Similitud = 0.2507\n",
            "  Documento 8: Similitud = 0.0000\n",
            "  Documento 7: Similitud = 0.0000\n",
            "\n",
            "Consulta 3: 'realidad aumentada en videojuegos'\n",
            "Documentos más relevantes:\n",
            "  Documento 2: Similitud = 0.3873\n",
            "  Documento 8: Similitud = 0.0000\n",
            "  Documento 7: Similitud = 0.0000\n",
            "\n",
            "Consulta 4: 'desarrollo personal y hábitos saludables'\n",
            "Documentos más relevantes:\n",
            "  Documento 7: Similitud = 0.4082\n",
            "  Documento 2: Similitud = 0.0535\n",
            "  Documento 8: Similitud = 0.0000\n",
            "\n",
            "Consulta 5: 'futuro del comercio electrónico'\n",
            "Documentos más relevantes:\n",
            "  Documento 3: Similitud = 0.3034\n",
            "  Documento 6: Similitud = 0.0703\n",
            "  Documento 8: Similitud = 0.0654\n",
            "\n",
            "Consulta 6: 'tecnologías en cine moderno'\n",
            "Documentos más relevantes:\n",
            "  Documento 5: Similitud = 0.2318\n",
            "  Documento 2: Similitud = 0.0827\n",
            "  Documento 8: Similitud = 0.0000\n",
            "\n",
            "Consulta 7: 'competencias de e-sports'\n",
            "Documentos más relevantes:\n",
            "  Documento 2: Similitud = 0.2236\n",
            "  Documento 8: Similitud = 0.0000\n",
            "  Documento 7: Similitud = 0.0000\n",
            "\n",
            "Consulta 8: 'diagnóstico con dispositivos portátiles'\n",
            "Documentos más relevantes:\n",
            "  Documento 8: Similitud = 0.3254\n",
            "  Documento 7: Similitud = 0.0000\n",
            "  Documento 6: Similitud = 0.0000\n",
            "\n",
            "Consulta 9: 'literatura de ciencia ficción'\n",
            "Documentos más relevantes:\n",
            "  Documento 6: Similitud = 0.3499\n",
            "  Documento 8: Similitud = 0.0000\n",
            "  Documento 7: Similitud = 0.0000\n",
            "\n",
            "Consulta 10: 'plataformas de streaming'\n",
            "Documentos más relevantes:\n",
            "  Documento 5: Similitud = 0.2318\n",
            "  Documento 3: Similitud = 0.0877\n",
            "  Documento 8: Similitud = 0.0000\n"
          ]
        }
      ]
    },
    {
      "cell_type": "markdown",
      "source": [
        "#Representación Gráfica"
      ],
      "metadata": {
        "id": "0xmoc435rPZK"
      },
      "id": "0xmoc435rPZK"
    },
    {
      "cell_type": "code",
      "source": [
        "import matplotlib.pyplot as plt\n",
        "from sklearn.decomposition import PCA\n",
        "from scipy.spatial.distance import cdist\n",
        "import numpy as np\n",
        "from sklearn.feature_extraction.text import TfidfVectorizer\n",
        "\n",
        "# Concatenar los documentos preprocesados y las consultas preprocesadas\n",
        "all_texts = documentos + consultas  # Documentos y consultas previamente preprocesados\n",
        "\n",
        "# Crear una matriz TF-IDF para los textos combinados (documentos y consultas)\n",
        "vectorizer = TfidfVectorizer(vocabulary=vocab_filtrado)  # Usar el vocabulario filtrado que ya tenemos\n",
        "all_tfidf_matrix = vectorizer.fit_transform(all_texts)\n",
        "\n",
        "# Reducir la matriz TF-IDF a 2 dimensiones usando PCA para visualización\n",
        "pca = PCA(n_components=2)\n",
        "tfidf_2d = pca.fit_transform(all_tfidf_matrix.toarray())\n",
        "\n",
        "# Separar las coordenadas de los documentos y de las consultas\n",
        "doc_coords = tfidf_2d[:len(documentos)]  # Coordenadas de los documentos\n",
        "query_coords = tfidf_2d[len(documentos):]  # Coordenadas de las consultas\n",
        "\n",
        "# Crear el gráfico de dispersión para los documentos y las consultas\n",
        "plt.figure(figsize=(12, 8))\n",
        "\n",
        "# Graficar los documentos\n",
        "plt.scatter(doc_coords[:, 0], doc_coords[:, 1], color='blue', alpha=0.6, label=\"Documentos\")\n",
        "\n",
        "# Graficar las consultas\n",
        "plt.scatter(query_coords[:, 0], query_coords[:, 1], color='red', alpha=0.8, marker='x', label=\"Consultas\")\n",
        "\n",
        "# Etiquetas de los documentos\n",
        "for i, doc in enumerate(doc_coords):\n",
        "    plt.text(doc[0], doc[1], f'Doc {i+1}', fontsize=8, color=\"blue\")\n",
        "\n",
        "# Etiquetas de las consultas\n",
        "for j, query in enumerate(query_coords):\n",
        "    plt.text(query[0], query[1], f'Query {j+1}', fontsize=8, color=\"red\")\n",
        "\n",
        "# Calcular y dibujar la distancia más cercana entre cada consulta y los documentos\n",
        "for j, query in enumerate(query_coords):\n",
        "    # Calcular distancias entre la consulta y todos los documentos usando la distancia euclidiana\n",
        "    distances = cdist([query], doc_coords, metric='euclidean')[0]\n",
        "    closest_doc_index = np.argmin(distances)  # Documento más cercano\n",
        "    closest_doc_coords = doc_coords[closest_doc_index]\n",
        "\n",
        "    # Dibujar una línea hacia el documento más cercano\n",
        "    plt.plot([query[0], closest_doc_coords[0]], [query[1], closest_doc_coords[1]], color='green', linestyle=\"--\", linewidth=0.8)\n",
        "\n",
        "# Personalización del gráfico\n",
        "plt.title(\"Documentos y Consultas en el Espacio TF-IDF con Distancias Más Cercanas\")\n",
        "plt.xlabel(\"Componente Principal 1\")\n",
        "plt.ylabel(\"Componente Principal 2\")\n",
        "plt.legend()\n",
        "plt.grid(True)\n",
        "plt.show()"
      ],
      "metadata": {
        "colab": {
          "base_uri": "https://localhost:8080/",
          "height": 719
        },
        "id": "CTjbx_jprSpb",
        "outputId": "44e5e86e-001a-403d-cee8-57816d75d573"
      },
      "id": "CTjbx_jprSpb",
      "execution_count": 25,
      "outputs": [
        {
          "output_type": "display_data",
          "data": {
            "text/plain": [
              "<Figure size 1200x800 with 1 Axes>"
            ],
            "image/png": "[encoded data removed]"
          },
          "metadata": {}
        }
      ]
    }
  ],
  "metadata": {
    "kernelspec": {
      "display_name": "Python 3",
      "language": "python",
      "name": "python3"
    },
    "language_info": {
      "codemirror_mode": {
        "name": "ipython",
        "version": 2
      },
      "file_extension": ".py",
      "mimetype": "text/x-python",
      "name": "python",
      "nbconvert_exporter": "python",
      "pygments_lexer": "ipython2",
      "version": "2.7.6"
    },
    "colab": {
      "provenance": []
    }
  },
  "nbformat": 4,
  "nbformat_minor": 5
}